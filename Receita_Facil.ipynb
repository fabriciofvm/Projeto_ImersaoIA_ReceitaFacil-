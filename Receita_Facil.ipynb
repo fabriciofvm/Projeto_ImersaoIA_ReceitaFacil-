{
  "nbformat": 4,
  "nbformat_minor": 0,
  "metadata": {
    "colab": {
      "provenance": [],
      "authorship_tag": "ABX9TyNWBVUE+8JnC59k4pLH+mir",
      "include_colab_link": true
    },
    "kernelspec": {
      "name": "python3",
      "display_name": "Python 3"
    },
    "language_info": {
      "name": "python"
    }
  },
  "cells": [
    {
      "cell_type": "markdown",
      "metadata": {
        "id": "view-in-github",
        "colab_type": "text"
      },
      "source": [
        "<a href=\"https://colab.research.google.com/github/fabriciofvm/Projeto_ImersaoIA_ReceitaFacil-/blob/main/Receita_Facil.ipynb\" target=\"_parent\"><img src=\"https://colab.research.google.com/assets/colab-badge.svg\" alt=\"Open In Colab\"/></a>"
      ]
    },
    {
      "cell_type": "code",
      "source": [
        "#######################################################################\n",
        "!pip install -q -U google-generativeai\n",
        "######################################################################\n",
        "\n",
        "import google.generativeai as genai\n",
        "\n",
        "genai.configure(api_key=\"COLE SUA API KEY\")\n",
        "\n",
        "# Set up the model\n",
        "generation_config = {\n",
        "  \"temperature\": 1,\n",
        "  \"top_p\": 1,\n",
        "  \"top_k\": 0,\n",
        "  \"max_output_tokens\": 2048,\n",
        "}\n",
        "\n",
        "safety_settings = [\n",
        "  {\n",
        "    \"category\": \"HARM_CATEGORY_HARASSMENT\",\n",
        "    \"threshold\": \"BLOCK_MEDIUM_AND_ABOVE\"\n",
        "  },\n",
        "  {\n",
        "    \"category\": \"HARM_CATEGORY_HATE_SPEECH\",\n",
        "    \"threshold\": \"BLOCK_MEDIUM_AND_ABOVE\"\n",
        "  },\n",
        "  {\n",
        "    \"category\": \"HARM_CATEGORY_SEXUALLY_EXPLICIT\",\n",
        "    \"threshold\": \"BLOCK_MEDIUM_AND_ABOVE\"\n",
        "  },\n",
        "  {\n",
        "    \"category\": \"HARM_CATEGORY_DANGEROUS_CONTENT\",\n",
        "    \"threshold\": \"BLOCK_MEDIUM_AND_ABOVE\"\n",
        "  },\n",
        "]\n",
        "\n",
        "model = genai.GenerativeModel(model_name=\"gemini-1.0-pro\",\n",
        "                              generation_config=generation_config,\n",
        "                              safety_settings=safety_settings)\n",
        "\n",
        "# Inicie um chat\n",
        "convo = model.start_chat(history=[])\n",
        "\n",
        "# Obtenha os produtos do usuário\n",
        "produtos = input(\"Insira os produtos que você tem, separados por vírgulas: \")\n",
        "\n",
        "# Envie os produtos para o modelo\n",
        "convo.send_message(produtos)\n",
        "\n",
        "# Obtenha a receita gerada\n",
        "receita = convo.last.text\n",
        "\n",
        "# Verifique se a receita contém as seções necessárias\n",
        "if \"Modo de preparo\" in receita or \"Ingredientes\" in receita:\n",
        "    print(receita)\n",
        "else:\n",
        "    print(\"Retire ou Acrecente 1 ou mais alimentos\")"
      ],
      "metadata": {
        "id": "ebOlFAxnNmXr"
      },
      "execution_count": null,
      "outputs": []
    }
  ]
}