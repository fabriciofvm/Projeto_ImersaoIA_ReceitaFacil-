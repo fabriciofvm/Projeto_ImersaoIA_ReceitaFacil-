{
  "nbformat": 4,
  "nbformat_minor": 0,
  "metadata": {
    "colab": {
      "provenance": [],
      "authorship_tag": "ABX9TyPX4gVbZc3ktW9APlWtY/e2",
      "include_colab_link": true
    },
    "kernelspec": {
      "name": "python3",
      "display_name": "Python 3"
    },
    "language_info": {
      "name": "python"
    }
  },
  "cells": [
    {
      "cell_type": "markdown",
      "metadata": {
        "id": "view-in-github",
        "colab_type": "text"
      },
      "source": [
        "<a href=\"https://colab.research.google.com/github/fabriciofvm/Projeto_ImersaoIA_ReceitaFacil-/blob/main/Receita_Facil.ipynb\" target=\"_parent\"><img src=\"https://colab.research.google.com/assets/colab-badge.svg\" alt=\"Open In Colab\"/></a>"
      ]
    },
    {
      "cell_type": "code",
      "source": [
        "#######################################################################\n",
        "!pip install -q -U google-generativeai\n",
        "######################################################################\n",
        "\n",
        "import google.generativeai as genai\n",
        "from google.colab import userdata\n",
        "api_key = userdata.get('secretName')\n",
        "genai.configure(api_key= api_key)\n",
        "\n",
        "# Set up the model\n",
        "generation_config = {\n",
        "  \"temperature\": 1,\n",
        "  \"top_p\": 1,\n",
        "  \"top_k\": 0,\n",
        "  \"max_output_tokens\": 2048,\n",
        "}\n",
        "\n",
        "safety_settings = [\n",
        "  {\n",
        "    \"category\": \"HARM_CATEGORY_HARASSMENT\",\n",
        "    \"threshold\": \"BLOCK_MEDIUM_AND_ABOVE\"\n",
        "  },\n",
        "  {\n",
        "    \"category\": \"HARM_CATEGORY_HATE_SPEECH\",\n",
        "    \"threshold\": \"BLOCK_MEDIUM_AND_ABOVE\"\n",
        "  },\n",
        "  {\n",
        "    \"category\": \"HARM_CATEGORY_SEXUALLY_EXPLICIT\",\n",
        "    \"threshold\": \"BLOCK_MEDIUM_AND_ABOVE\"\n",
        "  },\n",
        "  {\n",
        "    \"category\": \"HARM_CATEGORY_DANGEROUS_CONTENT\",\n",
        "    \"threshold\": \"BLOCK_MEDIUM_AND_ABOVE\"\n",
        "  },\n",
        "]\n",
        "\n",
        "model = genai.GenerativeModel(model_name=\"gemini-1.0-pro\",\n",
        "                              generation_config=generation_config,\n",
        "                              safety_settings=safety_settings)\n",
        "\n",
        "# Inicie um chat\n",
        "convo = model.start_chat(history=[])\n",
        "\n",
        "# Obtenha os produtos do usuário\n",
        "produtos = input(\"Insira os produtos que você tem, separados por vírgulas: \")\n",
        "\n",
        "# Envie os produtos para o modelo\n",
        "convo.send_message(produtos)\n",
        "\n",
        "# Obtenha a receita gerada\n",
        "receita = convo.last.text\n",
        "\n",
        "# Verifique se a receita contém as seções necessárias\n",
        "if \"Modo de preparo\" in receita or \"Ingredientes\" in receita:\n",
        "    print(receita)\n",
        "else:\n",
        "    print(\"Retire ou Acrecente 1 ou mais alimentos\")"
      ],
      "metadata": {
        "colab": {
          "base_uri": "https://localhost:8080/",
          "height": 679
        },
        "id": "ebOlFAxnNmXr",
        "outputId": "a67bf15e-68ec-4f24-a4b2-637f82764e6a"
      },
      "execution_count": 90,
      "outputs": [
        {
          "output_type": "stream",
          "name": "stdout",
          "text": [
            "Insira os produtos que você tem, separados por vírgulas: macarrao,quiabo,frango\n",
            "**Ensopado de Macarrão, Quiabo e Frango**\n",
            "\n",
            "**Ingredientes:**\n",
            "\n",
            "* 1 peito de frango sem pele e osso, cortado em cubos\n",
            "* 1 cebola grande, picada\n",
            "* 2 dentes de alho, picados\n",
            "* 1 pimentão verde, picado\n",
            "* 500g de quiabo, cortado em pedaços de 2 cm\n",
            "* 1 lata (400g) de tomates pelados\n",
            "* 1 lata (355ml) de caldo de galinha\n",
            "* 1/2 xícara de macarrão curto, como penne ou farfalle\n",
            "* 1/2 xícara de coentro fresco, picado\n",
            "* Sal e pimenta a gosto\n",
            "\n",
            "**Instruções:**\n",
            "\n",
            "1. Tempere o frango com sal e pimenta.\n",
            "2. Em uma panela grande ou forno holandês, aqueça um pouco de óleo em fogo médio-alto. Doure o frango por todos os lados.\n",
            "3. Retire o frango da panela e reserve.\n",
            "4. Adicione a cebola e o alho à panela e refogue até ficarem macios.\n",
            "5. Adicione o pimentão e refogue por mais 2-3 minutos.\n",
            "6. Adicione o quiabo e cozinhe até ficar macio, cerca de 5-7 minutos.\n",
            "7. Adicione os tomates, o caldo de galinha e o macarrão.\n",
            "8. Deixe ferver. Reduza o fogo e cozinhe até que o macarrão esteja al dente, cerca de 10-12 minutos.\n",
            "9. Adicione o frango de volta à panela.\n",
            "10. Cozinhe por mais 5-7 minutos, ou até que o frango esteja cozido.\n",
            "11. Retire do fogo e misture o coentro.\n",
            "12. Tempere com sal e pimenta adicionais, se necessário.\n",
            "\n",
            "**Dicas:**\n",
            "\n",
            "* Para um sabor mais profundo, doure o frango com antecedência e reserve.\n",
            "* Adicione outros vegetais ao ensopado, como cenouras, aipo ou feijão verde.\n",
            "* Sirva o ensopado com arroz ou pão para absorver o caldo.\n",
            "* As sobras podem ser refrigeradas por até 3 dias.\n"
          ]
        }
      ]
    }
  ]
}