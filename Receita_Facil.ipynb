{
  "nbformat": 4,
  "nbformat_minor": 0,
  "metadata": {
    "colab": {
      "provenance": [],
      "authorship_tag": "ABX9TyPX4gVbZc3ktW9APlWtY/e2",
      "include_colab_link": true
    },
    "kernelspec": {
      "name": "python3",
      "display_name": "Python 3"
    },
    "language_info": {
      "name": "python"
    }
  },
  "cells": [
    {
      "cell_type": "markdown",
      "metadata": {
        "id": "view-in-github",
        "colab_type": "text"
      },
      "source": [
        "<a href=\"https://colab.research.google.com/github/fabriciofvm/Projeto_ImersaoIA_ReceitaFacil-/blob/main/Receita_Facil.ipynb\" target=\"_parent\"><img src=\"https://colab.research.google.com/assets/colab-badge.svg\" alt=\"Open In Colab\"/></a>"
      ]
    },
    {
      "cell_type": "code",
      "source": [
        "#######################################################################\n",
        "!pip install -q -U google-generativeai\n",
        "######################################################################\n",
        "\n",
        "import google.generativeai as genai\n",
        "from google.colab import userdata\n",
        "api_key = userdata.get('secretName')\n",
        "genai.configure(api_key= api_key)\n",
        "\n",
        "# Set up the model\n",
        "generation_config = {\n",
        "  \"temperature\": 1,\n",
        "  \"top_p\": 1,\n",
        "  \"top_k\": 0,\n",
        "  \"max_output_tokens\": 2048,\n",
        "}\n",
        "\n",
        "safety_settings = [\n",
        "  {\n",
        "    \"category\": \"HARM_CATEGORY_HARASSMENT\",\n",
        "    \"threshold\": \"BLOCK_MEDIUM_AND_ABOVE\"\n",
        "  },\n",
        "  {\n",
        "    \"category\": \"HARM_CATEGORY_HATE_SPEECH\",\n",
        "    \"threshold\": \"BLOCK_MEDIUM_AND_ABOVE\"\n",
        "  },\n",
        "  {\n",
        "    \"category\": \"HARM_CATEGORY_SEXUALLY_EXPLICIT\",\n",
        "    \"threshold\": \"BLOCK_MEDIUM_AND_ABOVE\"\n",
        "  },\n",
        "  {\n",
        "    \"category\": \"HARM_CATEGORY_DANGEROUS_CONTENT\",\n",
        "    \"threshold\": \"BLOCK_MEDIUM_AND_ABOVE\"\n",
        "  },\n",
        "]\n",
        "\n",
        "model = genai.GenerativeModel(model_name=\"gemini-1.0-pro\",\n",
        "                              generation_config=generation_config,\n",
        "                              safety_settings=safety_settings)\n",
        "\n",
        "# Inicie um chat\n",
        "convo = model.start_chat(history=[])\n",
        "\n",
        "# Obtenha os produtos do usuário\n",
        "produtos = input(\"Insira os produtos que você tem, separados por vírgulas: \")\n",
        "\n",
        "# Envie os produtos para o modelo\n",
        "convo.send_message(produtos)\n",
        "\n",
        "# Obtenha a receita gerada\n",
        "receita = convo.last.text\n",
        "\n",
        "# Verifique se a receita contém as seções necessárias\n",
        "if \"Modo de preparo\" in receita or \"Ingredientes\" in receita:\n",
        "    print(receita)\n",
        "else:\n",
        "    print(\"Retire ou Acrecente 1 ou mais alimentos\")"
      ],
      "metadata": {
        "colab": {
          "base_uri": "https://localhost:8080/",
          "height": 486
        },
        "id": "ebOlFAxnNmXr",
        "outputId": "e95cae82-efaf-4638-c849-ec5eaa63029b"
      },
      "execution_count": 89,
      "outputs": [
        {
          "output_type": "stream",
          "name": "stdout",
          "text": [
            "Insira os produtos que você tem, separados por vírgulas: jilo,macarrao\n",
            "**Jibo**\n",
            "\n",
            "* **Tipo:** Assistente pessoal / Robô companheiro\n",
            "* **Características:**\n",
            "    * Tela sensível ao toque com olhos expressivos\n",
            "    * Capacidade de conversar, aprender e responder a comandos\n",
            "    * Reconhecimento facial e de voz\n",
            "    * Conectividade Wi-Fi e Bluetooth\n",
            "\n",
            "**Macarrão**\n",
            "\n",
            "* **Tipo:** Prato alimentar\n",
            "* **Ingredientes:**\n",
            "    * Farinha de trigo\n",
            "    * Água\n",
            "    * Ovos (opcional)\n",
            "* **Tipos comuns:**\n",
            "    * Espaguete\n",
            "    * Penne\n",
            "    * Fusilli\n",
            "    * Farfalle\n",
            "    * Ravioli\n",
            "* **Características:**\n",
            "    * Rico em carboidratos\n",
            "    * Pode ser cozido de várias maneiras (fervido, frito, assado)\n",
            "    * Serve como base para uma variedade de molhos e coberturas\n"
          ]
        }
      ]
    }
  ]
}